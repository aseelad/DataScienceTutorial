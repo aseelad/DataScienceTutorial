{
 "cells": [
  {
   "cell_type": "markdown",
   "metadata": {},
   "source": [
    "# Step 1: Identify porblem/ questions\n",
    "\n",
    "In here, we would like to see what sentiment Twitter users have towards Trump and Russia.\n",
    "Also, we would like to predict the sentiment in the futuer. "
   ]
  },
  {
   "cell_type": "markdown",
   "metadata": {},
   "source": [
    "# Step 2: Import important libraries"
   ]
  },
  {
   "cell_type": "code",
   "execution_count": 67,
   "metadata": {},
   "outputs": [],
   "source": [
    "#Import the necessary methods from tweepy library\n",
    "from tweepy.streaming import StreamListener\n",
    "from tweepy import OAuthHandler\n",
    "from tweepy import Stream\n",
    "import json\n",
    "import pandas as pd\n",
    "import matplotlib.pyplot as plt\n",
    "from textblob import TextBlob "
   ]
  },
  {
   "cell_type": "code",
   "execution_count": 68,
   "metadata": {},
   "outputs": [],
   "source": [
    "# change the seeting of the cells\n",
    "pd.set_option('display.max_columns', None)\n",
    "pd.set_option('display.max_rows', None)\n",
    "pd.set_option('display.max_colwidth', -1)"
   ]
  },
  {
   "cell_type": "markdown",
   "metadata": {},
   "source": [
    "# Step 3: Stream Twitter data "
   ]
  },
  {
   "cell_type": "code",
   "execution_count": 86,
   "metadata": {},
   "outputs": [],
   "source": [
    "#Variables that contains the user credentials to access Twitter API \n",
    "access_token = \"95194990-CdXOjP5fl5Rw6GGo5EywxMmryGeFm79OOgKzvjYrw\"\n",
    "access_token_secret = \"6Vwd3i6g39ZWSsDaUNxmYsIf2FMFnVvDB9IcGFdTNqrzd\"\n",
    "consumer_key = \"AHLJRF4o5X3MqIby1KDquGkct\"\n",
    "consumer_secret = \"TOGt214zXYahyyoV6Y0LlDWrQr0ZVnR3pbEKxedTs8etvuEq2p\""
   ]
  },
  {
   "cell_type": "code",
   "execution_count": 87,
   "metadata": {},
   "outputs": [],
   "source": [
    "# establish contection to the API\n",
    "class FileWriteListener(StreamListener):\n",
    "\n",
    "    def __init__(self):\n",
    "        super(StreamListener, self).__init__()\n",
    "        self.save_file = open('tweets.json','w')\n",
    "        self.tweets = []\n",
    "\n",
    "    def on_data(self, tweet):\n",
    "        self.tweets.append(json.loads(tweet))\n",
    "        self.save_file.write(str(tweet))\n",
    "\n",
    "    def on_error(self, status):\n",
    "        print(status)\n",
    "        return True\n"
   ]
  },
  {
   "cell_type": "code",
   "execution_count": 88,
   "metadata": {},
   "outputs": [],
   "source": [
    "#This handles Twitter authetification and the connection to Twitter Streaming API\n",
    "l = FileWriteListener()\n",
    "auth = OAuthHandler(consumer_key, consumer_secret)\n",
    "auth.set_access_token(access_token, access_token_secret)\n",
    "stream = Stream(auth, l)"
   ]
  },
  {
   "cell_type": "code",
   "execution_count": null,
   "metadata": {},
   "outputs": [],
   "source": [
    "#This line filter Twitter Streams to capture data by the keywords: 'python', 'javascript', 'ruby'\n",
    "stream.filter(track=['trump','russia'])"
   ]
  }
 ],
 "metadata": {
  "kernelspec": {
   "display_name": "Python 2",
   "language": "python",
   "name": "python2"
  },
  "language_info": {
   "codemirror_mode": {
    "name": "ipython",
    "version": 2
   },
   "file_extension": ".py",
   "mimetype": "text/x-python",
   "name": "python",
   "nbconvert_exporter": "python",
   "pygments_lexer": "ipython2",
   "version": "2.7.15"
  }
 },
 "nbformat": 4,
 "nbformat_minor": 2
}
